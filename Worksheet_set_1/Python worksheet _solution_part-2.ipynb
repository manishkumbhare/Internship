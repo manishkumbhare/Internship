{
 "cells": [
  {
   "cell_type": "markdown",
   "id": "9b8d69c2",
   "metadata": {},
   "source": [
    "# 11. Write a python program to find the factorial of a number"
   ]
  },
  {
   "cell_type": "code",
   "execution_count": 5,
   "id": "f41da357",
   "metadata": {},
   "outputs": [
    {
     "name": "stdout",
     "output_type": "stream",
     "text": [
      "Enter a number: 6\n",
      " The Factorial of  6 is :  720\n"
     ]
    }
   ],
   "source": [
    "num = int(input(\"Enter a number: \"))\n",
    "factorial = 1\n",
    "if num == 0:\n",
    "    num=1\n",
    "    Print(num)\n",
    "else:\n",
    "    for i in range(1, num+1):\n",
    "        factorial = factorial * i\n",
    "    print(\"The Factorial of \" , num , \"is : \", factorial)"
   ]
  },
  {
   "cell_type": "markdown",
   "id": "f7b90f36",
   "metadata": {},
   "source": [
    "\n",
    "# 12. Write a python program to find whether a number is prime or composite"
   ]
  },
  {
   "cell_type": "code",
   "execution_count": 9,
   "id": "2d0e21fa",
   "metadata": {},
   "outputs": [
    {
     "name": "stdout",
     "output_type": "stream",
     "text": [
      "Enter a number: 13\n",
      "13 is a prime number\n"
     ]
    }
   ],
   "source": [
    "# To take input from the user\n",
    "num = int(input(\"Enter a number: \"))\n",
    "\n",
    "# if input number is equal to 1, it is not prime\n",
    "if num == 1:\n",
    "    print(num, \"is a Composite number\")\n",
    "    \n",
    "elif num > 1:\n",
    "   # check for factors\n",
    "   for i in range(2,num):\n",
    "       if (num % i) == 0:\n",
    "           print(num,\"is a Composite number\")\n",
    "           print(i,\"times\",num//i,\"is\",num)\n",
    "           break\n",
    "   else:\n",
    "       print(num,\"is a prime number\")     \n",
    "else:\n",
    "   print(num,\"is not a prime number\")"
   ]
  },
  {
   "cell_type": "markdown",
   "id": "e2f1353d",
   "metadata": {},
   "source": [
    "# 14. Write a Python program to get the third side of right-angled triangle from two given sides"
   ]
  },
  {
   "cell_type": "code",
   "execution_count": 11,
   "id": "aef1b655",
   "metadata": {},
   "outputs": [
    {
     "name": "stdout",
     "output_type": "stream",
     "text": [
      "Enter the length of the first side: 3\n",
      "Enter the length of the second side: 4\n",
      "The length of the third side is 5.0\n"
     ]
    }
   ],
   "source": [
    "import math\n",
    "\n",
    "def Pythagoras(side1, side2):\n",
    "    return math.sqrt(side1**2 + side2**2)\n",
    "\n",
    "side1 = float(input(\"Enter the length of the first side: \"))\n",
    "side2 = float(input(\"Enter the length of the second side: \"))\n",
    "third_side = Pythagoras(side1, side2)\n",
    "print(\"The length of the third side is\", third_side)\n"
   ]
  },
  {
   "cell_type": "markdown",
   "id": "87e44c5a",
   "metadata": {},
   "source": [
    "# 15. Write a python program to print the frequency of each of the characters present in a given string."
   ]
  },
  {
   "cell_type": "code",
   "execution_count": 20,
   "id": "5e4ac1a2",
   "metadata": {},
   "outputs": [
    {
     "name": "stdout",
     "output_type": "stream",
     "text": [
      "Enter a string: present in given string\n",
      "p : 1\n",
      "r : 2\n",
      "e : 3\n",
      "s : 2\n",
      "n : 4\n",
      "t : 2\n",
      "  : 3\n",
      "i : 3\n",
      "g : 2\n",
      "v : 1\n"
     ]
    }
   ],
   "source": [
    "s = input(\"Enter a string: \")\n",
    "freq = {}\n",
    "for char in s:\n",
    "        if char in freq:\n",
    "            freq[char] += 1\n",
    "        else:\n",
    "            freq[char] = 1\n",
    "for char, count in freq.items():\n",
    "    print(char, \":\", count)"
   ]
  },
  {
   "cell_type": "code",
   "execution_count": null,
   "id": "ace52a88",
   "metadata": {},
   "outputs": [],
   "source": []
  }
 ],
 "metadata": {
  "kernelspec": {
   "display_name": "Python 3 (ipykernel)",
   "language": "python",
   "name": "python3"
  },
  "language_info": {
   "codemirror_mode": {
    "name": "ipython",
    "version": 3
   },
   "file_extension": ".py",
   "mimetype": "text/x-python",
   "name": "python",
   "nbconvert_exporter": "python",
   "pygments_lexer": "ipython3",
   "version": "3.9.13"
  }
 },
 "nbformat": 4,
 "nbformat_minor": 5
}
