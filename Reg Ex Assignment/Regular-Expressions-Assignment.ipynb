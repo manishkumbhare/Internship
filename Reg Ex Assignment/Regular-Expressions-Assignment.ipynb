{
 "cells": [
  {
   "cell_type": "markdown",
   "id": "6132198b",
   "metadata": {},
   "source": [
    "# Question 1- Write a Python program to replace all occurrences of a space, comma, or dot with a colon.\n",
    "# Sample Text- 'Python Exercises, PHP exercises.'"
   ]
  },
  {
   "cell_type": "code",
   "execution_count": 1,
   "id": "32369085",
   "metadata": {},
   "outputs": [],
   "source": [
    "import pandas as pd\n",
    "import numpy as np\n",
    "import re\n",
    "import warnings\n",
    "warnings.filterwarnings('ignore')"
   ]
  },
  {
   "cell_type": "code",
   "execution_count": 2,
   "id": "f0982b68",
   "metadata": {},
   "outputs": [
    {
     "name": "stdout",
     "output_type": "stream",
     "text": [
      "Python:Exercises::PHP:exercises:\n"
     ]
    }
   ],
   "source": [
    "text = 'Python Exercises, PHP exercises.'\n",
    "pat = '\\s|,|\\.'\n",
    "replaced_text = re.sub(pat, ':', text)\n",
    "print(replaced_text)"
   ]
  },
  {
   "cell_type": "markdown",
   "id": "8ad87acd",
   "metadata": {},
   "source": [
    "# Question 2-  Write a Python program to find all words starting with 'a' or 'e' in a given string."
   ]
  },
  {
   "cell_type": "code",
   "execution_count": 3,
   "id": "71a834b5",
   "metadata": {},
   "outputs": [
    {
     "data": {
      "text/plain": [
       "['And', 'email', 'address', 'and', 'alternate', 'email', 'address', 'abc']"
      ]
     },
     "execution_count": 3,
     "metadata": {},
     "output_type": "execute_result"
    }
   ],
   "source": [
    "text = 'Hello my name is Data Science And my email address is xyz@domain.com and alternate email address is xyz.abc@sdomain.domain.com.'\n",
    "pattern = r'\\b[aAeE]\\w+'\n",
    "result = re.findall(pattern, text)\n",
    "result"
   ]
  },
  {
   "cell_type": "markdown",
   "id": "6b643449",
   "metadata": {},
   "source": [
    "# Question 3- Create a function in python to find all words that are at least 4 characters long in a string. The use of the re.compile() method is mandatory."
   ]
  },
  {
   "cell_type": "code",
   "execution_count": 4,
   "id": "86c9d95d",
   "metadata": {},
   "outputs": [
    {
     "name": "stdout",
     "output_type": "stream",
     "text": [
      "['Hello', 'name', 'Data', 'Science', 'email', 'address', 'domain', 'alternate', 'email', 'address', 'sdomain', 'domain']\n"
     ]
    }
   ],
   "source": [
    "text = 'Hello my name is Data Science And my email address is xyz@domain.com and alternate email address is xyz.abc@sdomain.domain.com.'\n",
    "pattern = r'\\b\\w{4,}\\b'\n",
    "result= re.compile(pattern).findall(text)\n",
    "print(result)"
   ]
  },
  {
   "cell_type": "markdown",
   "id": "93f74e7e",
   "metadata": {},
   "source": [
    "# Question 4- Create a function in python to find all three, four, and five character words in a string. The use of the re.compile() method is mandatory."
   ]
  },
  {
   "cell_type": "code",
   "execution_count": 5,
   "id": "7463774d",
   "metadata": {},
   "outputs": [
    {
     "name": "stdout",
     "output_type": "stream",
     "text": [
      "['Hello', 'name', 'Data', 'And', 'email', 'xyz', 'com', 'and', 'email', 'xyz', 'abc', 'com']\n"
     ]
    }
   ],
   "source": [
    "text = 'Hello my name is Data Science And my email address is xyz@domain.com and alternate email address is xyz.abc@sdomain.domain.com.'\n",
    "pattern = r'\\b\\w{3,5}\\b'\n",
    "result= re.compile(pattern).findall(text)\n",
    "print(result)"
   ]
  },
  {
   "cell_type": "markdown",
   "id": "543593ad",
   "metadata": {},
   "source": [
    "# Question 5- Create a function in Python to remove the parenthesis in a list of strings. The use of the re.compile() method is mandatory."
   ]
  },
  {
   "cell_type": "code",
   "execution_count": 6,
   "id": "7b4d8b93",
   "metadata": {},
   "outputs": [
    {
     "name": "stdout",
     "output_type": "stream",
     "text": [
      "example.com\n",
      "hr@fliprobo.com\n",
      "github.com\n",
      "Hello Data Science World\n",
      "Data Scientist\n"
     ]
    }
   ],
   "source": [
    "text = [\"example(.com)\", \"hr@fliprobo(.com)\", \"github(.com)\", \"Hello (Data Science World)\", \"Data (Scientist)\"]\n",
    "pattern = r'\\(|\\)'\n",
    "result_compile= re.compile(pattern)\n",
    "for string in text:\n",
    "    final=result_compile.sub('', string)\n",
    "    print(final)"
   ]
  },
  {
   "cell_type": "markdown",
   "id": "43ba8d35",
   "metadata": {},
   "source": [
    "# Question 6- Write a python program to remove the parenthesis area from the text stored in the text file using Regular Expression.\n",
    "Sample Text: [\"example (.com)\", \"hr@fliprobo (.com)\", \"github (.com)\", \"Hello (Data Science World)\", \"Data (Scientist)\"]\n"
   ]
  },
  {
   "cell_type": "code",
   "execution_count": 7,
   "id": "0d4e9762",
   "metadata": {},
   "outputs": [],
   "source": [
    "text =  [\"example (.com)\", \"hr@fliprobo (.com)\", \"github (.com)\", \"Hello (Data Science World)\", \"Data (Scientist)\"]\n",
    "pattern = r'\\s\\([\\.\\w\\s]+\\)'\n",
    "file_name = 'sample.txt'\n",
    "with open(file_name, 'r') as txt_file:\n",
    "    file=str(txt_file.read())\n",
    "result_compile= re.compile(pattern)\n",
    "final = result_compile.sub('',file)\n",
    "output_file= 'Out.txt'\n",
    "with open(output_file, 'w') as file:\n",
    "    file.write(final)\n",
    "    "
   ]
  },
  {
   "cell_type": "markdown",
   "id": "3bb4039e",
   "metadata": {},
   "source": [
    "# Question 7- Write a regular expression in Python to split a string into uppercase letters.\n",
    "Sample text: “ImportanceOfRegularExpressionsInPython”"
   ]
  },
  {
   "cell_type": "code",
   "execution_count": 8,
   "id": "7aa445f7",
   "metadata": {},
   "outputs": [
    {
     "data": {
      "text/plain": [
       "['', 'Importance', 'Of', 'Regular', 'Expressions', 'In', 'Python']"
      ]
     },
     "execution_count": 8,
     "metadata": {},
     "output_type": "execute_result"
    }
   ],
   "source": [
    "text =  'ImportanceOfRegularExpressionsInPython'\n",
    "pattern = r'(?=[A-Z])'\n",
    "final=re.split(pattern,text)\n",
    "final"
   ]
  },
  {
   "cell_type": "markdown",
   "id": "302a25a0",
   "metadata": {},
   "source": [
    "# Question 8- Create a function in python to insert spaces between words starting with numbers.\n",
    "Sample Text: “RegularExpression1IsAn2ImportantTopic3InPython\"\n"
   ]
  },
  {
   "cell_type": "code",
   "execution_count": 9,
   "id": "46755c3a",
   "metadata": {},
   "outputs": [
    {
     "name": "stdout",
     "output_type": "stream",
     "text": [
      "RegularExpression 1IsAn 2ImportantTopic 3InPython\n"
     ]
    }
   ],
   "source": [
    "text = 'RegularExpression1IsAn2ImportantTopic3InPython'\n",
    "pattern = r'(?=[0-9])'\n",
    "final = re.sub(pattern,\" \", text)\n",
    "print(final)"
   ]
  },
  {
   "cell_type": "markdown",
   "id": "73dac436",
   "metadata": {},
   "source": [
    "# Question 9- Create a function in python to insert spaces between words starting with capital letters or with numbers.\n",
    "Sample Text: “RegularExpression1IsAn2ImportantTopic3InPython\""
   ]
  },
  {
   "cell_type": "code",
   "execution_count": 10,
   "id": "6cf97c66",
   "metadata": {},
   "outputs": [
    {
     "name": "stdout",
     "output_type": "stream",
     "text": [
      " Regular Expression 1 Is An 2 Important Topic 3 In Python\n"
     ]
    }
   ],
   "source": [
    "text = 'RegularExpression1IsAn2ImportantTopic3InPython'\n",
    "pattern = r'(?=[0-9])|(?=[A-Z])'\n",
    "final = re.sub(pattern,\" \", text)\n",
    "print(final)"
   ]
  },
  {
   "cell_type": "markdown",
   "id": "6a67d28d",
   "metadata": {},
   "source": [
    "# Question 10- Write a python program to extract email address from the text stored in the text file using Regular Expression.\n",
    "Sample Text- Hello my name is Data Science and my email address is xyz@domain.com and alternate email address is xyz.abc@sdomain.domain.com. \n",
    "Please contact us at hr@fliprobo.com for further information. "
   ]
  },
  {
   "cell_type": "code",
   "execution_count": 11,
   "id": "ea1e1f87",
   "metadata": {},
   "outputs": [
    {
     "data": {
      "text/plain": [
       "['xyz@domain.com', 'xyz.abc@sdomain.domain.com.', 'hr@fliprobo.com']"
      ]
     },
     "execution_count": 11,
     "metadata": {},
     "output_type": "execute_result"
    }
   ],
   "source": [
    "filename= 'sample2.txt'\n",
    "with open(filename, 'r') as file:\n",
    "    content=file.read()\n",
    "pattern =r'[\\w\\.]+@[\\w\\.]+'\n",
    "final = re.findall(pattern, content)\n",
    "final"
   ]
  },
  {
   "cell_type": "markdown",
   "id": "8a6db960",
   "metadata": {},
   "source": [
    "# Question 11- Write a Python program to match a string that contains only upper and lowercase letters, numbers, and underscores."
   ]
  },
  {
   "cell_type": "code",
   "execution_count": 12,
   "id": "2bb66d5d",
   "metadata": {},
   "outputs": [
    {
     "name": "stdout",
     "output_type": "stream",
     "text": [
      "<re.Match object; span=(0, 14), match='ValidString123'>\n",
      "<re.Match object; span=(0, 12), match='valid_string'>\n",
      "None\n",
      "<re.Match object; span=(0, 14), match='another_one_45'>\n",
      "None\n"
     ]
    }
   ],
   "source": [
    "text=['ValidString123','valid_string','Invalid String!','another_one_45','with spaces']\n",
    "pattern = r'^[\\w]+$'\n",
    "re_com = re.compile(pattern)\n",
    "for string in text:\n",
    "    final = re_com.match(string)\n",
    "    print(final)\n"
   ]
  },
  {
   "cell_type": "markdown",
   "id": "f07e33ce",
   "metadata": {},
   "source": [
    "# Question 12- Write a Python program where a string will start with a specific number. "
   ]
  },
  {
   "cell_type": "markdown",
   "id": "aeae9b35",
   "metadata": {},
   "source": [
    "# *considering the question is to match a string which start with specific number"
   ]
  },
  {
   "cell_type": "code",
   "execution_count": 14,
   "id": "1285cc21",
   "metadata": {},
   "outputs": [
    {
     "name": "stdout",
     "output_type": "stream",
     "text": [
      "['2valid_string']\n",
      "['2another_one_45']\n"
     ]
    }
   ],
   "source": [
    "text=['ValidString123','2valid_string','Invalid String!','2another_one_45','with spaces']\n",
    "pattern = r'^2[\\w]+'\n",
    "re_com = re.compile(pattern)\n",
    "for string in text:\n",
    "    final = re_com.findall(string)\n",
    "    if final:\n",
    "        print(final)\n",
    "    "
   ]
  },
  {
   "cell_type": "markdown",
   "id": "3c472fdc",
   "metadata": {},
   "source": [
    "# Question 13- Write a Python program to remove leading zeros from an IP address"
   ]
  },
  {
   "cell_type": "code",
   "execution_count": 15,
   "id": "8579a525",
   "metadata": {},
   "outputs": [
    {
     "name": "stdout",
     "output_type": "stream",
     "text": [
      "192.608.1.1\n"
     ]
    }
   ],
   "source": [
    "sample_IP= '192.608.001.001'\n",
    "pattern = r'\\b0+'\n",
    "final=re.sub(pattern,'',sample_IP)\n",
    "print(final)"
   ]
  },
  {
   "cell_type": "markdown",
   "id": "8bf0da39",
   "metadata": {},
   "source": [
    "# Question 14- Write a regular expression in python to match a date string in the form of Month name followed by day number and year stored in a text file.\n",
    "Sample text :  ' On August 15th 1947 that India was declared independent from British colonialism, and the reins of control were handed over to the leaders of the Country’.\n"
   ]
  },
  {
   "cell_type": "code",
   "execution_count": 16,
   "id": "059dccdb",
   "metadata": {},
   "outputs": [
    {
     "name": "stdout",
     "output_type": "stream",
     "text": [
      "file name \"output.txt\" created\n"
     ]
    }
   ],
   "source": [
    "text = 'On August 15th 1947 that India was declared independent from British colonialism, and the reins of control were handed over to the leaders of the Country'\n",
    "pattern = r'\\b(?:January|February|March|April|May|June|July|August|September|October|November|December)\\s+\\d{1,2}(?:st|nd|rd|th)?\\s+\\d{4}'\n",
    "final = str(re.findall(pattern, text))\n",
    "filename='output.txt'\n",
    "with open(filename, 'w') as file:\n",
    "    file.write(final)\n",
    "    print('file name \"output.txt\" created')"
   ]
  },
  {
   "cell_type": "markdown",
   "id": "f44a9fdc",
   "metadata": {},
   "source": [
    "# Question 15- Write a Python program to search some literals strings in a string. \n",
    "Sample text : 'The quick brown fox jumps over the lazy dog.'"
   ]
  },
  {
   "cell_type": "code",
   "execution_count": 17,
   "id": "1e4a371e",
   "metadata": {},
   "outputs": [
    {
     "name": "stdout",
     "output_type": "stream",
     "text": [
      "['fox', 'dog']\n"
     ]
    }
   ],
   "source": [
    "text = 'The quick brown fox jumps over the lazy dog.'\n",
    "found = []\n",
    "search_str = ['fox', 'dog', 'horse'] \n",
    "for string in search_str:\n",
    "    if(re.findall(string, text)):\n",
    "        found.append(string)\n",
    "print(found)"
   ]
  },
  {
   "cell_type": "markdown",
   "id": "87b160bd",
   "metadata": {},
   "source": [
    "# Question 16- Write a Python program to search a literals string in a string and also find the location within the original string where the pattern occurs\n",
    "Sample text : 'The quick brown fox jumps over the lazy dog.'\n",
    "Searched words : 'fox'\n"
   ]
  },
  {
   "cell_type": "code",
   "execution_count": 18,
   "id": "37cd965e",
   "metadata": {},
   "outputs": [
    {
     "name": "stdout",
     "output_type": "stream",
     "text": [
      "fox 16 19\n",
      "dog 40 43\n"
     ]
    }
   ],
   "source": [
    "text = 'The quick brown fox jumps over the lazy dog'\n",
    "search_str = ['fox', 'dog']\n",
    "for st in search_str:\n",
    "    re_comp=st\n",
    "    for match in (re.finditer(re_comp, text)):\n",
    "        start = match.start()\n",
    "        end = match.end()\n",
    "        print(st, start, end)"
   ]
  },
  {
   "cell_type": "markdown",
   "id": "77797609",
   "metadata": {},
   "source": [
    "# Question 17- Write a Python program to find the substrings within a string.\n",
    "Sample text : 'Python exercises, PHP exercises, C# exercises'\n",
    "Pattern : 'exercises'.\n"
   ]
  },
  {
   "cell_type": "code",
   "execution_count": 19,
   "id": "5ff5fc94",
   "metadata": {},
   "outputs": [
    {
     "name": "stdout",
     "output_type": "stream",
     "text": [
      "['exercises', 'exercises', 'exercises']\n"
     ]
    }
   ],
   "source": [
    "text = 'Python exercises, PHP exercises, C# exercises' \n",
    "Pattern = 'exercises'\n",
    "final = re.findall(Pattern, text)\n",
    "print(final)\n",
    "    \n"
   ]
  },
  {
   "cell_type": "markdown",
   "id": "b2dfc693",
   "metadata": {},
   "source": [
    "# Question 18- Write a Python program to find the occurrence and position of the substrings within a string."
   ]
  },
  {
   "cell_type": "code",
   "execution_count": 20,
   "id": "0776dd47",
   "metadata": {},
   "outputs": [
    {
     "name": "stdout",
     "output_type": "stream",
     "text": [
      "<re.Match object; span=(7, 16), match='exercises'> 7\n",
      "<re.Match object; span=(22, 31), match='exercises'> 22\n",
      "<re.Match object; span=(36, 45), match='exercises'> 36\n"
     ]
    }
   ],
   "source": [
    "text = 'Python exercises, PHP exercises, C# exercises'\n",
    "Pattern = 'exercises'\n",
    "for match in (re.finditer(Pattern, text)):\n",
    "    start=match.start()\n",
    "    print(match , start)"
   ]
  },
  {
   "cell_type": "markdown",
   "id": "18cc69e8",
   "metadata": {},
   "source": [
    "# Question 19- Write a Python program to convert a date of yyyy-mm-dd format to dd-mm-yyyy format"
   ]
  },
  {
   "cell_type": "code",
   "execution_count": 21,
   "id": "4aa280ef",
   "metadata": {},
   "outputs": [
    {
     "name": "stdout",
     "output_type": "stream",
     "text": [
      "date in dd-mm-yyyy format :  05-08-2023\n"
     ]
    }
   ],
   "source": [
    "input_date = '2023-08-05'\n",
    "pattern = r'^(\\d{4})-(\\d{2})-(\\d{2})$'\n",
    "out_date=re.sub(pattern, r'\\3-\\2-\\1', input_date)\n",
    "print('date in dd-mm-yyyy format : ',out_date)\n"
   ]
  },
  {
   "cell_type": "markdown",
   "id": "834589d0",
   "metadata": {},
   "source": [
    "# Question 20- Create a function in python to find all decimal numbers with a precision of 1 or 2 in a string. The use of the re.compile() method is mandatory."
   ]
  },
  {
   "cell_type": "code",
   "execution_count": 22,
   "id": "67d26725",
   "metadata": {},
   "outputs": [
    {
     "name": "stdout",
     "output_type": "stream",
     "text": [
      "['2.5', '150.65']\n"
     ]
    }
   ],
   "source": [
    "text = 'The price of 2.5Kg Mangoes is Rs150.65'\n",
    "pattern = r'\\d+\\.\\d{1,2}'\n",
    "re_comp= re.compile(pattern)\n",
    "final = re_comp.findall(text)\n",
    "print(final)"
   ]
  },
  {
   "cell_type": "markdown",
   "id": "d1fb20e1",
   "metadata": {},
   "source": [
    "# Question 21- Write a Python program to separate and print the numbers and their position of a given string."
   ]
  },
  {
   "cell_type": "code",
   "execution_count": 23,
   "id": "fac5be95",
   "metadata": {},
   "outputs": [
    {
     "name": "stdout",
     "output_type": "stream",
     "text": [
      "<re.Match object; span=(13, 14), match='2'> 13 14\n",
      "<re.Match object; span=(15, 16), match='5'> 15 16\n",
      "<re.Match object; span=(32, 35), match='150'> 32 35\n",
      "<re.Match object; span=(36, 38), match='65'> 36 38\n"
     ]
    }
   ],
   "source": [
    "text = 'The price of 2.5Kg Mangoes is Rs150.65'\n",
    "pattern= r'[\\d]+'\n",
    "re_comp= re.compile(pattern)\n",
    "for match in re_comp.finditer(text):\n",
    "    start=match.start()\n",
    "    end=match.end()\n",
    "    print(match, start , end)\n",
    "    \n"
   ]
  },
  {
   "cell_type": "markdown",
   "id": "fae42e01",
   "metadata": {},
   "source": [
    "# Question 22- Write a regular expression in python program to extract maximum/largest numeric value from a string.\n",
    "Sample Text:  'My marks in each semester are: 947, 896, 926, 524, 734, 950, 642'"
   ]
  },
  {
   "cell_type": "code",
   "execution_count": 24,
   "id": "ffb00a10",
   "metadata": {},
   "outputs": [
    {
     "name": "stdout",
     "output_type": "stream",
     "text": [
      "maximum number : 950.0\n"
     ]
    }
   ],
   "source": [
    "text = 'My marks in each semester are: 947, 896, 926, 524, 734, 950, 642'\n",
    "pattern = r'(\\d+)'\n",
    "re_comp= re.compile(pattern)\n",
    "val=[]\n",
    "for value in re_comp.findall(text):\n",
    "    val.append(float(value))\n",
    "max_num=max(val)\n",
    "print('maximum number :',max_num)"
   ]
  },
  {
   "cell_type": "markdown",
   "id": "4372927e",
   "metadata": {},
   "source": [
    "# Question 23- Create a function in python to insert spaces between words starting with capital letters.\n",
    "Sample Text: “RegularExpressionIsAnImportantTopicInPython\""
   ]
  },
  {
   "cell_type": "code",
   "execution_count": 25,
   "id": "7f002830",
   "metadata": {},
   "outputs": [
    {
     "name": "stdout",
     "output_type": "stream",
     "text": [
      " Regular Expression Is An Important Topic In Python\n"
     ]
    }
   ],
   "source": [
    "Text= 'RegularExpressionIsAnImportantTopicInPython'\n",
    "pattern = r'(?=[A-Z])'\n",
    "final = re.sub(pattern, \" \", Text)\n",
    "print(final)"
   ]
  },
  {
   "cell_type": "markdown",
   "id": "cb53a0ca",
   "metadata": {},
   "source": [
    "# Question 24- Python regex to find sequences of one upper case letter followed by lower case letters"
   ]
  },
  {
   "cell_type": "code",
   "execution_count": 26,
   "id": "57d64049",
   "metadata": {},
   "outputs": [
    {
     "name": "stdout",
     "output_type": "stream",
     "text": [
      "['Regular', 'Expression', 'Is', 'An', 'Important', 'Topic', 'In', 'Python']\n"
     ]
    }
   ],
   "source": [
    "text= 'Regular Expression Is An Important Topic In Python'\n",
    "pattern = r'[A-Z][a-z]+'\n",
    "final = re.findall(pattern, text)\n",
    "print(final)"
   ]
  },
  {
   "cell_type": "markdown",
   "id": "e915f87a",
   "metadata": {},
   "source": [
    "# Question 25- Write a Python program to remove continuous duplicate words from Sentence using Regular Expression.\n",
    "Sample Text: \"Hello hello world world\""
   ]
  },
  {
   "cell_type": "code",
   "execution_count": 27,
   "id": "4e63776f",
   "metadata": {},
   "outputs": [
    {
     "name": "stdout",
     "output_type": "stream",
     "text": [
      "Hello hello world\n"
     ]
    }
   ],
   "source": [
    "text = 'Hello hello world world'\n",
    "pattern= r'\\b(\\w+)(\\s+\\1)\\b'\n",
    "re_comp= re.compile(pattern)\n",
    "final=re_comp.sub(r'\\1', text)\n",
    "print(final)"
   ]
  },
  {
   "cell_type": "markdown",
   "id": "04e92092",
   "metadata": {},
   "source": [
    "# Question 26-  Write a python program using RegEx to accept string ending with alphanumeric character."
   ]
  },
  {
   "cell_type": "code",
   "execution_count": 28,
   "id": "24b60031",
   "metadata": {},
   "outputs": [
    {
     "name": "stdout",
     "output_type": "stream",
     "text": [
      "['Hello12q']\n",
      "['Welcome@2023']\n"
     ]
    }
   ],
   "source": [
    "text = ['Hello12q', 'Welcome@2023', 'Welcome@']\n",
    "pattern = r'.*[a-zA-Z0-9]$'\n",
    "re_comp = re.compile(pattern)\n",
    "for string in text:\n",
    "    if (re_comp.findall(string)):\n",
    "        final =re_comp.findall(string)\n",
    "        print(final)"
   ]
  },
  {
   "cell_type": "markdown",
   "id": "58f0d4d0",
   "metadata": {},
   "source": [
    "# Question 27-Write a python program using RegEx to extract the hashtags.\n",
    "Sample Text:  \"\"\"RT @kapil_kausik: #Doltiwal I mean #xyzabc is \"hurt\" by #Demonetization as the same has rendered USELESS <ed><U+00A0><U+00BD><ed><U+00B1><U+0089> \"acquired funds\" No wo\"\"\"\n"
   ]
  },
  {
   "cell_type": "code",
   "execution_count": 29,
   "id": "9c86e3c2",
   "metadata": {},
   "outputs": [
    {
     "name": "stdout",
     "output_type": "stream",
     "text": [
      "['#Doltiwal', '#xyzabc', '#Demonetization']\n"
     ]
    }
   ],
   "source": [
    "Text= \"\"\"RT @kapil_kausik: #Doltiwal I mean #xyzabc is \"hurt\" by #Demonetization as the same has rendered USELESS <U+00A0><U+00BD><U+00B1><U+0089> \"acquired funds\" No wo\"\"\"\n",
    "pattern = r'\\#\\w+\\b'\n",
    "re_comp = re.compile(pattern)\n",
    "final = re_comp.findall(Text)\n",
    "print(final)"
   ]
  },
  {
   "cell_type": "markdown",
   "id": "c0083230",
   "metadata": {},
   "source": [
    "# Question 28- Write a python program using RegEx to remove <U+..> like symbols\n",
    "Check the below sample text, there are strange symbols something of the sort <U+..> all over the place. You need to come up with a general Regex expression that will cover all such symbols.\n",
    "\n",
    "Sample Text: \"@Jags123456 Bharat band on 28??<ed><U+00A0><U+00BD><ed><U+00B8><U+0082>Those who  are protesting #demonetization  are all different party leaders\"\n"
   ]
  },
  {
   "cell_type": "code",
   "execution_count": 30,
   "id": "672449ff",
   "metadata": {},
   "outputs": [
    {
     "name": "stdout",
     "output_type": "stream",
     "text": [
      "@Jags123456 Bharat band on 28??<ed><ed>Those who  are protesting #demonetization  are all different party leaders\n"
     ]
    }
   ],
   "source": [
    "text= '@Jags123456 Bharat band on 28??<ed><U+00A0><U+00BD><ed><U+00B8><U+0082>Those who  are protesting #demonetization  are all different party leaders'\n",
    "pattern = re.compile(r'<U\\+[0-9A-Z]+>')\n",
    "final = pattern.sub(\"\", text)\n",
    "print(final)"
   ]
  },
  {
   "cell_type": "markdown",
   "id": "bc6ec7ba",
   "metadata": {},
   "source": [
    "# Question 29- Write a python program to extract dates from the text stored in the text file.\n",
    "Sample Text: Ron was born on 12-09-1992 and he was admitted to school 15-12-1999.\n",
    "Note- Store this sample text in the file and then extract dates.\n"
   ]
  },
  {
   "cell_type": "code",
   "execution_count": 31,
   "id": "42ac4014",
   "metadata": {},
   "outputs": [
    {
     "name": "stdout",
     "output_type": "stream",
     "text": [
      "['12-09-1992', '15-12-1999']\n"
     ]
    }
   ],
   "source": [
    "filename='sample3.txt'\n",
    "pattern = re.compile(r'\\d{1,2}-\\d{1,2}-\\d{1,4}')\n",
    "with open(filename, 'r') as file:\n",
    "    content=file.read()\n",
    "final = re.findall(pattern, content)\n",
    "print(final)"
   ]
  },
  {
   "cell_type": "markdown",
   "id": "b78cc488",
   "metadata": {},
   "source": [
    "# Question 30- Create a function in python to remove all words from a string of length between 2 and 4.\n",
    "The use of the re.compile() method is mandatory.\n",
    "\n",
    "Sample Text: \"The following example creates an ArrayList with a capacity of 50 elements. 4 elements are then added to the ArrayList and the ArrayList is trimmed accordingly.\"\n"
   ]
  },
  {
   "cell_type": "code",
   "execution_count": 32,
   "id": "047a5716",
   "metadata": {},
   "outputs": [
    {
     "name": "stdout",
     "output_type": "stream",
     "text": [
      " following example creates  ArrayList  a capacity  50 elements. 4 elements   added   ArrayList   ArrayList  trimmed accordingly\n"
     ]
    }
   ],
   "source": [
    "def rem_text(text):\n",
    "    pattern = r'\\b[A-Za-z]{2,4}\\b'\n",
    "    re_comp=re.compile(pattern)\n",
    "    final= re_comp.sub('', text)\n",
    "    return final\n",
    "text = 'The following example creates an ArrayList with a capacity of 50 elements. 4 elements are then added to the ArrayList and the ArrayList is trimmed accordingly'\n",
    "result=rem_text(text)\n",
    "print(result)"
   ]
  },
  {
   "cell_type": "code",
   "execution_count": null,
   "id": "006b2a1c",
   "metadata": {},
   "outputs": [],
   "source": []
  }
 ],
 "metadata": {
  "kernelspec": {
   "display_name": "Python 3 (ipykernel)",
   "language": "python",
   "name": "python3"
  },
  "language_info": {
   "codemirror_mode": {
    "name": "ipython",
    "version": 3
   },
   "file_extension": ".py",
   "mimetype": "text/x-python",
   "name": "python",
   "nbconvert_exporter": "python",
   "pygments_lexer": "ipython3",
   "version": "3.9.13"
  }
 },
 "nbformat": 4,
 "nbformat_minor": 5
}
